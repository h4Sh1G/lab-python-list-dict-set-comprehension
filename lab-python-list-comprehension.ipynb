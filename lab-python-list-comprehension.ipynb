{
 "cells": [
  {
   "attachments": {},
   "cell_type": "markdown",
   "id": "25d7736c-ba17-4aff-b6bb-66eba20fbf4e",
   "metadata": {},
   "source": [
    "# Lab | List, Dict and Set Comprehension"
   ]
  },
  {
   "attachments": {},
   "cell_type": "markdown",
   "id": "7dd3cbde-675a-4b81-92c3-f728846dbe06",
   "metadata": {},
   "source": [
    "## Exercise: Managing Customer Orders Optimized with Comprehension"
   ]
  },
  {
   "attachments": {},
   "cell_type": "markdown",
   "id": "5d500160-2fb7-4777-b5e4-09d45ebaf328",
   "metadata": {},
   "source": [
    "In the previous exercise, you developed a program to manage customer orders and inventory. Now, let's take it a step further and incorporate comprehension into your code.\n",
    "\n",
    "Follow the steps below to complete the exercise:\n",
    "\n",
    "1. Review your code from the previous exercise and identify areas where you can apply comprehension to simplify and streamline your code. \n",
    "\n",
    "    - *Hint: Apply it to initialize inventory, updating the inventory and printing the updated inventory.*\n",
    "    \n",
    "    - For example, in initializing the inventory, we could have:\n",
    "    \n",
    "        ```python\n",
    "        def initialize_inventory(products):\n",
    "            inventory = {product: int(input(f\"Enter the quantity of {product}s available: \")) for product in products}\n",
    "            return inventory\n",
    "\n",
    "        ```\n",
    "<br>\n",
    "    \n",
    "    \n",
    "2. Modify the function get_customer_orders so it prompts the user to enter the number of customer orders and gathers the product names using a loop and user input. Use comprehension.\n",
    "\n",
    "3. Add a new function to calculate the total price of the customer order. For each product in customer_orders, prompt the user to enter the price of that product. Use comprehension to calculate the total price. Note: assume that the user can only have 1 unit of each product.\n",
    "\n",
    "4. Modify the update_inventory function to remove the product from the inventory if its quantity becomes zero after fulfilling the customer orders. Use comprehension to filter out the products with a quantity of zero from the inventory.\n",
    "\n",
    "5. Print the total price of the customer order.\n",
    "\n",
    "Your code should produce output similar to the following:\n",
    "\n",
    "```python\n",
    "Enter the quantity of t-shirts available:  5\n",
    "Enter the quantity of mugs available:  4\n",
    "Enter the quantity of hats available:  3\n",
    "Enter the quantity of books available:  2\n",
    "Enter the quantity of keychains available:  1\n",
    "Enter the number of customer orders:  2\n",
    "Enter the name of a product that a customer wants to order:  hat\n",
    "Enter the name of a product that a customer wants to order:  keychain\n",
    "\n",
    "Order Statistics:\n",
    "Total Products Ordered: 2\n",
    "Percentage of Unique Products Ordered: 40.0\n",
    "\n",
    "Updated Inventory:\n",
    "t-shirt: 5\n",
    "mug: 4\n",
    "hat: 2\n",
    "book: 2\n",
    "Enter the price of keychain:  5\n",
    "Enter the price of hat:  10\n",
    "Total Price: 15.0\n",
    "\n",
    "\n"
   ]
  },
  {
   "cell_type": "code",
   "execution_count": 46,
   "id": "ff425034",
   "metadata": {},
   "outputs": [
    {
     "ename": "ValueError",
     "evalue": "invalid literal for int() with base 10: ''",
     "output_type": "error",
     "traceback": [
      "\u001b[0;31m---------------------------------------------------------------------------\u001b[0m",
      "\u001b[0;31mValueError\u001b[0m                                Traceback (most recent call last)",
      "Cell \u001b[0;32mIn[46], line 11\u001b[0m\n\u001b[1;32m      8\u001b[0m     inventory \u001b[39m=\u001b[39m {product: \u001b[39mint\u001b[39m(\u001b[39minput\u001b[39m(\u001b[39mf\u001b[39m\u001b[39m\"\u001b[39m\u001b[39mEnter the amount for \u001b[39m\u001b[39m{\u001b[39;00mproduct\u001b[39m}\u001b[39;00m\u001b[39m: \u001b[39m\u001b[39m\"\u001b[39m)) \u001b[39mfor\u001b[39;00m product \u001b[39min\u001b[39;00m products}\n\u001b[1;32m      9\u001b[0m     \u001b[39mreturn\u001b[39;00m inventory\n\u001b[0;32m---> 11\u001b[0m inventory \u001b[39m=\u001b[39m initialize_inventory(products)\n\u001b[1;32m     13\u001b[0m \u001b[39mprint\u001b[39m(inventory_updated)\n",
      "Cell \u001b[0;32mIn[46], line 8\u001b[0m, in \u001b[0;36minitialize_inventory\u001b[0;34m(products)\u001b[0m\n\u001b[1;32m      7\u001b[0m \u001b[39mdef\u001b[39;00m \u001b[39minitialize_inventory\u001b[39m(products):\n\u001b[0;32m----> 8\u001b[0m     inventory \u001b[39m=\u001b[39m {product: \u001b[39mint\u001b[39m(\u001b[39minput\u001b[39m(\u001b[39mf\u001b[39m\u001b[39m\"\u001b[39m\u001b[39mEnter the amount for \u001b[39m\u001b[39m{\u001b[39;00mproduct\u001b[39m}\u001b[39;00m\u001b[39m: \u001b[39m\u001b[39m\"\u001b[39m)) \u001b[39mfor\u001b[39;00m product \u001b[39min\u001b[39;00m products}\n\u001b[1;32m      9\u001b[0m     \u001b[39mreturn\u001b[39;00m inventory\n",
      "Cell \u001b[0;32mIn[46], line 8\u001b[0m, in \u001b[0;36m<dictcomp>\u001b[0;34m(.0)\u001b[0m\n\u001b[1;32m      7\u001b[0m \u001b[39mdef\u001b[39;00m \u001b[39minitialize_inventory\u001b[39m(products):\n\u001b[0;32m----> 8\u001b[0m     inventory \u001b[39m=\u001b[39m {product: \u001b[39mint\u001b[39m(\u001b[39minput\u001b[39m(\u001b[39mf\u001b[39m\u001b[39m\"\u001b[39m\u001b[39mEnter the amount for \u001b[39m\u001b[39m{\u001b[39;00mproduct\u001b[39m}\u001b[39;00m\u001b[39m: \u001b[39m\u001b[39m\"\u001b[39m)) \u001b[39mfor\u001b[39;00m product \u001b[39min\u001b[39;00m products}\n\u001b[1;32m      9\u001b[0m     \u001b[39mreturn\u001b[39;00m inventory\n",
      "\u001b[0;31mValueError\u001b[0m: invalid literal for int() with base 10: ''"
     ]
    }
   ],
   "source": [
    "#1\n",
    "\n",
    "products = ['t-shirt', 'mug', 'hat', 'book', 'keychain'];\n",
    "\n",
    "inventory = {};\n",
    "\n",
    "def initialize_inventory(products):\n",
    "    inventory = {product: int(input(f\"Enter the amount for {product}: \")) for product in products}\n",
    "    return inventory\n",
    "\n",
    "inventory = initialize_inventory(products)\n",
    "\n",
    "print(inventory_updated)"
   ]
  },
  {
   "cell_type": "code",
   "execution_count": null,
   "id": "fb029a31",
   "metadata": {},
   "outputs": [
    {
     "name": "stdout",
     "output_type": "stream",
     "text": [
      "{'t-shirt': 5, 'mug': 4, 'hat': 4, 'book': 4, 'keychain': 5}\n"
     ]
    }
   ],
   "source": [
    "customer_orders = ('mug','hat','book')\n",
    "\n",
    "def update_inventory(customer_orders, inventory):\n",
    "    update_inventory = {product: (inventory[product] - customer_orders.count(product)) for product in inventory}\n",
    "    return update_inventory\n",
    "\n",
    "inventory = update_inventory(customer_orders, inventory)\n",
    "\n",
    "print(inventory)"
   ]
  },
  {
   "cell_type": "code",
   "execution_count": null,
   "id": "d7ebe33a",
   "metadata": {},
   "outputs": [
    {
     "data": {
      "text/plain": [
       "{'book', 'hat', 'mug'}"
      ]
     },
     "execution_count": 27,
     "metadata": {},
     "output_type": "execute_result"
    }
   ],
   "source": [
    "#2\n",
    "\n",
    "def get_customer_orders():\n",
    "    customer_orders = set()\n",
    "    order = input(f\"From {products}, which products do you wish to order? (separate each product with ','):\").strip().lower()\n",
    "    products_ordered = order.split(',')\n",
    "    customer_orders = {product.strip() for product in products_ordered if product.strip() in products}\n",
    "    return customer_orders\n",
    "\n",
    "\n",
    "customer_orders = customer_orders\n",
    "\n",
    "get_customer_orders()\n",
    "\n"
   ]
  },
  {
   "cell_type": "code",
   "execution_count": null,
   "id": "33e70d9f",
   "metadata": {},
   "outputs": [
    {
     "data": {
      "text/plain": [
       "40"
      ]
     },
     "execution_count": 40,
     "metadata": {},
     "output_type": "execute_result"
    }
   ],
   "source": [
    "#3\n",
    "\n",
    "prices = []\n",
    "\n",
    "def calculate_order_price():\n",
    "    prices_input = input(f\"From {customer_orders}, insert the price respectively while separating each price with ',': \").strip().lower()\n",
    "    prices = [int(price.strip()) for price in prices_input.split(',')]\n",
    "    order_value = sum(prices)\n",
    "    return order_value\n",
    "\n",
    "calculate_order_price()\n"
   ]
  },
  {
   "cell_type": "code",
   "execution_count": null,
   "id": "4bf97111",
   "metadata": {},
   "outputs": [
    {
     "name": "stdout",
     "output_type": "stream",
     "text": [
      "{'hat': 4, 'book': 4, 'keychain': 5}\n"
     ]
    }
   ],
   "source": [
    "#4\n",
    "\n",
    "def update_inventory(customer_orders, inventory):\n",
    "    for product in customer_orders:\n",
    "        for product in inventory:\n",
    "            inventory[product] -= 1\n",
    "            if inventory[product] < 0:\n",
    "                inventory.pop(product)\n",
    "            break\n",
    "    \n",
    "    inventory = {product: amount for product, amount in inventory.items() if amount > 0}\n",
    "    \n",
    "    return inventory\n",
    "            \n",
    "    \n",
    "\n",
    "inventory_updated = update_inventory(customer_orders, inventory)\n",
    "\n",
    "print(inventory_updated)"
   ]
  },
  {
   "cell_type": "code",
   "execution_count": 49,
   "id": "0cb02b3c",
   "metadata": {},
   "outputs": [
    {
     "name": "stdout",
     "output_type": "stream",
     "text": [
      "\n",
      "Order Statistics:\n",
      "Total Products Ordered: 3\n",
      "Percentage of Unique Products Ordered: 60.0\n",
      "\n",
      "Updated Inventory:\n",
      "t-shirt: 5\n",
      "mug: 5\n",
      "hat: 4\n",
      "book: 4\n",
      "keychain: 4\n",
      "Total Price: 40.0\n"
     ]
    }
   ],
   "source": [
    "#5\n",
    "\n",
    "\n",
    "def initialize_inventory(products):\n",
    "    inventory = {}\n",
    "    for product in products:\n",
    "        quantity = int(input(f\"Enter the quantity of {product}s available: \"))\n",
    "        inventory[product] = quantity\n",
    "    return inventory\n",
    "\n",
    "\n",
    "def get_customer_orders():\n",
    "    customer_orders = []\n",
    "    num_orders = int(input(\"Enter the number of customer orders: \"))\n",
    "    for _ in range(num_orders):\n",
    "        order = input(\"Enter the name of a product that a customer wants to order: \").strip().lower()\n",
    "        if order in products:\n",
    "            customer_orders.append(order)\n",
    "        else:\n",
    "            print(f\"{order} is not a valid product.\")\n",
    "    return customer_orders\n",
    "\n",
    "\n",
    "def update_inventory(customer_orders, inventory):\n",
    "    for product in customer_orders:\n",
    "        if product in inventory:\n",
    "            inventory[product] -= 1\n",
    "            if inventory[product] <= 0:\n",
    "                inventory.pop(product)\n",
    "                print(f\"We have no stock for {product}\")\n",
    "        else:\n",
    "            print(f\"Such {product} doesn't exist in the inventory.\")\n",
    "    return inventory\n",
    "\n",
    "\n",
    "def calculate_order_statistics(customer_orders, products):\n",
    "    total_products_ordered = len(customer_orders)\n",
    "    unique_products_ordered = len(set(customer_orders))\n",
    "    percentage_unique_products = (unique_products_ordered / len(products)) * 100\n",
    "    print(\"\\nOrder Statistics:\")\n",
    "    print(f\"Total Products Ordered: {total_products_ordered}\")\n",
    "    print(f\"Percentage of Unique Products Ordered: {percentage_unique_products:.1f}\")\n",
    "\n",
    "\n",
    "def calculate_total_price(customer_orders):\n",
    "    total_price = 0\n",
    "    for product in set(customer_orders):\n",
    "        price = float(input(f\"Enter the price of {product}: \"))\n",
    "        total_price += price * customer_orders.count(product)\n",
    "    return total_price\n",
    "\n",
    "\n",
    "inventory = initialize_inventory(products)\n",
    "customer_orders = get_customer_orders()\n",
    "inventory = update_inventory(customer_orders, inventory)\n",
    "calculate_order_statistics(customer_orders, products)\n",
    "total_price = calculate_total_price(customer_orders)\n",
    "\n",
    "print(\"\\nUpdated Inventory:\")\n",
    "for product, quantity in inventory.items():\n",
    "    print(f\"{product}: {quantity}\")\n",
    "\n",
    "print(f\"Total Price: {total_price:.1f}\")"
   ]
  },
  {
   "cell_type": "code",
   "execution_count": null,
   "id": "4d6875e5",
   "metadata": {},
   "outputs": [],
   "source": []
  }
 ],
 "metadata": {
  "kernelspec": {
   "display_name": "Python 3 (ipykernel)",
   "language": "python",
   "name": "python3"
  },
  "language_info": {
   "codemirror_mode": {
    "name": "ipython",
    "version": 3
   },
   "file_extension": ".py",
   "mimetype": "text/x-python",
   "name": "python",
   "nbconvert_exporter": "python",
   "pygments_lexer": "ipython3",
   "version": "3.11.7"
  }
 },
 "nbformat": 4,
 "nbformat_minor": 5
}
